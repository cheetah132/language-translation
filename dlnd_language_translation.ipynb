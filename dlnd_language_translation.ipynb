{
 "cells": [
  {
   "cell_type": "markdown",
   "metadata": {
    "collapsed": true,
    "deletable": true,
    "editable": true
   },
   "source": [
    "# Language Translation\n",
    "In this project, you’re going to take a peek into the realm of neural network machine translation.  You’ll be training a sequence to sequence model on a dataset of English and French sentences that can translate new sentences from English to French.\n",
    "## Get the Data\n",
    "Since translating the whole language of English to French will take lots of time to train, we have provided you with a small portion of the English corpus."
   ]
  },
  {
   "cell_type": "code",
   "execution_count": 1,
   "metadata": {
    "collapsed": false,
    "deletable": true,
    "editable": true
   },
   "outputs": [],
   "source": [
    "\"\"\"\n",
    "DON'T MODIFY ANYTHING IN THIS CELL\n",
    "\"\"\"\n",
    "import helper\n",
    "import problem_unittests as tests\n",
    "\n",
    "source_path = 'data/small_vocab_en'\n",
    "target_path = 'data/small_vocab_fr'\n",
    "source_text = helper.load_data(source_path)\n",
    "target_text = helper.load_data(target_path)"
   ]
  },
  {
   "cell_type": "markdown",
   "metadata": {
    "deletable": true,
    "editable": true
   },
   "source": [
    "## Explore the Data\n",
    "Play around with view_sentence_range to view different parts of the data."
   ]
  },
  {
   "cell_type": "code",
   "execution_count": 2,
   "metadata": {
    "collapsed": false,
    "deletable": true,
    "editable": true
   },
   "outputs": [
    {
     "name": "stdout",
     "output_type": "stream",
     "text": [
      "Dataset Stats\n",
      "Roughly the number of unique words: 227\n",
      "Number of sentences: 137861\n",
      "Average number of words in a sentence: 13.225277634719028\n",
      "\n",
      "English sentences 0 to 10:\n",
      "new jersey is sometimes quiet during autumn , and it is snowy in april .\n",
      "the united states is usually chilly during july , and it is usually freezing in november .\n",
      "california is usually quiet during march , and it is usually hot in june .\n",
      "the united states is sometimes mild during june , and it is cold in september .\n",
      "your least liked fruit is the grape , but my least liked is the apple .\n",
      "his favorite fruit is the orange , but my favorite is the grape .\n",
      "paris is relaxing during december , but it is usually chilly in july .\n",
      "new jersey is busy during spring , and it is never hot in march .\n",
      "our least liked fruit is the lemon , but my least liked is the grape .\n",
      "the united states is sometimes busy during january , and it is sometimes warm in november .\n",
      "\n",
      "French sentences 0 to 10:\n",
      "new jersey est parfois calme pendant l' automne , et il est neigeux en avril .\n",
      "les états-unis est généralement froid en juillet , et il gèle habituellement en novembre .\n",
      "california est généralement calme en mars , et il est généralement chaud en juin .\n",
      "les états-unis est parfois légère en juin , et il fait froid en septembre .\n",
      "votre moins aimé fruit est le raisin , mais mon moins aimé est la pomme .\n",
      "son fruit préféré est l'orange , mais mon préféré est le raisin .\n",
      "paris est relaxant en décembre , mais il est généralement froid en juillet .\n",
      "new jersey est occupé au printemps , et il est jamais chaude en mars .\n",
      "notre fruit est moins aimé le citron , mais mon moins aimé est le raisin .\n",
      "les états-unis est parfois occupé en janvier , et il est parfois chaud en novembre .\n"
     ]
    }
   ],
   "source": [
    "view_sentence_range = (0, 10)\n",
    "\n",
    "\"\"\"\n",
    "DON'T MODIFY ANYTHING IN THIS CELL\n",
    "\"\"\"\n",
    "import numpy as np\n",
    "\n",
    "print('Dataset Stats')\n",
    "print('Roughly the number of unique words: {}'.format(len({word: None for word in source_text.split()})))\n",
    "\n",
    "sentences = source_text.split('\\n')\n",
    "word_counts = [len(sentence.split()) for sentence in sentences]\n",
    "print('Number of sentences: {}'.format(len(sentences)))\n",
    "print('Average number of words in a sentence: {}'.format(np.average(word_counts)))\n",
    "\n",
    "print()\n",
    "print('English sentences {} to {}:'.format(*view_sentence_range))\n",
    "print('\\n'.join(source_text.split('\\n')[view_sentence_range[0]:view_sentence_range[1]]))\n",
    "print()\n",
    "print('French sentences {} to {}:'.format(*view_sentence_range))\n",
    "print('\\n'.join(target_text.split('\\n')[view_sentence_range[0]:view_sentence_range[1]]))"
   ]
  },
  {
   "cell_type": "markdown",
   "metadata": {
    "deletable": true,
    "editable": true
   },
   "source": [
    "## Implement Preprocessing Function\n",
    "### Text to Word Ids\n",
    "As you did with other RNNs, you must turn the text into a number so the computer can understand it. In the function `text_to_ids()`, you'll turn `source_text` and `target_text` from words to ids.  However, you need to add the `<EOS>` word id at the end of `target_text`.  This will help the neural network predict when the sentence should end.\n",
    "\n",
    "You can get the `<EOS>` word id by doing:\n",
    "```python\n",
    "target_vocab_to_int['<EOS>']\n",
    "```\n",
    "You can get other word ids using `source_vocab_to_int` and `target_vocab_to_int`."
   ]
  },
  {
   "cell_type": "code",
   "execution_count": 3,
   "metadata": {
    "collapsed": false,
    "deletable": true,
    "editable": true
   },
   "outputs": [
    {
     "name": "stdout",
     "output_type": "stream",
     "text": [
      "Tests Passed\n"
     ]
    }
   ],
   "source": [
    "def text_to_ids(source_text, target_text, source_vocab_to_int, target_vocab_to_int):\n",
    "    \"\"\"\n",
    "    Convert source and target text to proper word ids\n",
    "    :param source_text: String that contains all the source text.\n",
    "    :param target_text: String that contains all the target text.\n",
    "    :param source_vocab_to_int: Dictionary to go from the source words to an id\n",
    "    :param target_vocab_to_int: Dictionary to go from the target words to an id\n",
    "    :return: A tuple of lists (source_id_text, target_id_text)\n",
    "    \"\"\"\n",
    "    # TODO: Implement Function\n",
    "    source_id_text = [[source_vocab_to_int[vocab] for vocab in sentence.split()] for sentence in source_text.split('\\n')]\n",
    "    target_id_text = [[target_vocab_to_int[vocab] for vocab in sentence.split()]  + [target_vocab_to_int['<EOS>']] for sentence in target_text.split('\\n')]\n",
    "\n",
    "    return source_id_text, target_id_text\n",
    "\n",
    "\"\"\"\n",
    "DON'T MODIFY ANYTHING IN THIS CELL THAT IS BELOW THIS LINE\n",
    "\"\"\"\n",
    "tests.test_text_to_ids(text_to_ids)"
   ]
  },
  {
   "cell_type": "markdown",
   "metadata": {
    "deletable": true,
    "editable": true
   },
   "source": [
    "### Preprocess all the data and save it\n",
    "Running the code cell below will preprocess all the data and save it to file."
   ]
  },
  {
   "cell_type": "code",
   "execution_count": 4,
   "metadata": {
    "collapsed": true,
    "deletable": true,
    "editable": true
   },
   "outputs": [],
   "source": [
    "\"\"\"\n",
    "DON'T MODIFY ANYTHING IN THIS CELL\n",
    "\"\"\"\n",
    "helper.preprocess_and_save_data(source_path, target_path, text_to_ids)"
   ]
  },
  {
   "cell_type": "markdown",
   "metadata": {
    "deletable": true,
    "editable": true
   },
   "source": [
    "# Check Point\n",
    "This is your first checkpoint. If you ever decide to come back to this notebook or have to restart the notebook, you can start from here. The preprocessed data has been saved to disk."
   ]
  },
  {
   "cell_type": "code",
   "execution_count": 5,
   "metadata": {
    "collapsed": true,
    "deletable": true,
    "editable": true
   },
   "outputs": [],
   "source": [
    "\"\"\"\n",
    "DON'T MODIFY ANYTHING IN THIS CELL\n",
    "\"\"\"\n",
    "import numpy as np\n",
    "import helper\n",
    "\n",
    "(source_int_text, target_int_text), (source_vocab_to_int, target_vocab_to_int), _ = helper.load_preprocess()"
   ]
  },
  {
   "cell_type": "markdown",
   "metadata": {
    "deletable": true,
    "editable": true
   },
   "source": [
    "### Check the Version of TensorFlow and Access to GPU\n",
    "This will check to make sure you have the correct version of TensorFlow and access to a GPU"
   ]
  },
  {
   "cell_type": "code",
   "execution_count": 6,
   "metadata": {
    "collapsed": false,
    "deletable": true,
    "editable": true
   },
   "outputs": [
    {
     "name": "stdout",
     "output_type": "stream",
     "text": [
      "TensorFlow Version: 1.1.0\n",
      "Default GPU Device: /gpu:0\n"
     ]
    }
   ],
   "source": [
    "\"\"\"\n",
    "DON'T MODIFY ANYTHING IN THIS CELL\n",
    "\"\"\"\n",
    "from distutils.version import LooseVersion\n",
    "import warnings\n",
    "import tensorflow as tf\n",
    "from tensorflow.python.layers.core import Dense\n",
    "\n",
    "# Check TensorFlow Version\n",
    "assert LooseVersion(tf.__version__) >= LooseVersion('1.1'), 'Please use TensorFlow version 1.1 or newer'\n",
    "print('TensorFlow Version: {}'.format(tf.__version__))\n",
    "\n",
    "# Check for a GPU\n",
    "if not tf.test.gpu_device_name():\n",
    "    warnings.warn('No GPU found. Please use a GPU to train your neural network.')\n",
    "else:\n",
    "    print('Default GPU Device: {}'.format(tf.test.gpu_device_name()))"
   ]
  },
  {
   "cell_type": "markdown",
   "metadata": {
    "deletable": true,
    "editable": true
   },
   "source": [
    "## Build the Neural Network\n",
    "You'll build the components necessary to build a Sequence-to-Sequence model by implementing the following functions below:\n",
    "- `model_inputs`\n",
    "- `process_decoder_input`\n",
    "- `encoding_layer`\n",
    "- `decoding_layer_train`\n",
    "- `decoding_layer_infer`\n",
    "- `decoding_layer`\n",
    "- `seq2seq_model`\n",
    "\n",
    "### Input\n",
    "Implement the `model_inputs()` function to create TF Placeholders for the Neural Network. It should create the following placeholders:\n",
    "\n",
    "- Input text placeholder named \"input\" using the TF Placeholder name parameter with rank 2.\n",
    "- Targets placeholder with rank 2.\n",
    "- Learning rate placeholder with rank 0.\n",
    "- Keep probability placeholder named \"keep_prob\" using the TF Placeholder name parameter with rank 0.\n",
    "- Target sequence length placeholder named \"target_sequence_length\" with rank 1\n",
    "- Max target sequence length tensor named \"max_target_len\" getting its value from applying tf.reduce_max on the target_sequence_length placeholder. Rank 0.\n",
    "- Source sequence length placeholder named \"source_sequence_length\" with rank 1\n",
    "\n",
    "Return the placeholders in the following the tuple (input, targets, learning rate, keep probability, target sequence length, max target sequence length, source sequence length)"
   ]
  },
  {
   "cell_type": "code",
   "execution_count": 8,
   "metadata": {
    "collapsed": false,
    "deletable": true,
    "editable": true
   },
   "outputs": [
    {
     "name": "stdout",
     "output_type": "stream",
     "text": [
      "Tests Passed\n"
     ]
    }
   ],
   "source": [
    "def model_inputs():\n",
    "    \"\"\"\n",
    "    Create TF Placeholders for input, targets, learning rate, and lengths of source and target sequences.\n",
    "    :return: Tuple (input, targets, learning rate, keep probability, target sequence length,\n",
    "    max target sequence length, source sequence length)\n",
    "    \"\"\"\n",
    "    # TODO: Implement Function\n",
    "    inputs = tf.placeholder(tf.int32, [None, None], name=\"input\")\n",
    "    targets = tf.placeholder(tf.int32, [None, None], name=\"target\")\n",
    "    learning_rate = tf.placeholder(tf.float32, name=\"learning_rate\")\n",
    "    keep_probability = tf.placeholder(tf.float32, name=\"keep_prob\")\n",
    "    target_sequence_length = tf.placeholder(tf.int32, (None,), name=\"target_sequence_length\")\n",
    "    max_target_sequence_length = tf.reduce_max(target_sequence_length, name='max_target_len')\n",
    "    source_sequence_length = tf.placeholder(tf.int32, (None,), name='source_sequence_length')\n",
    "    \n",
    "    return inputs, targets, learning_rate, keep_probability, target_sequence_length, max_target_sequence_length, source_sequence_length\n",
    "\n",
    "\n",
    "\"\"\"\n",
    "DON'T MODIFY ANYTHING IN THIS CELL THAT IS BELOW THIS LINE\n",
    "\"\"\"\n",
    "tests.test_model_inputs(model_inputs)"
   ]
  },
  {
   "cell_type": "markdown",
   "metadata": {
    "deletable": true,
    "editable": true
   },
   "source": [
    "### Process Decoder Input\n",
    "Implement `process_decoder_input` by removing the last word id from each batch in `target_data` and concat the GO ID to the begining of each batch."
   ]
  },
  {
   "cell_type": "code",
   "execution_count": 10,
   "metadata": {
    "collapsed": false,
    "deletable": true,
    "editable": true
   },
   "outputs": [
    {
     "name": "stdout",
     "output_type": "stream",
     "text": [
      "Tests Passed\n"
     ]
    }
   ],
   "source": [
    "def process_decoder_input(target_data, target_vocab_to_int, batch_size):\n",
    "    \"\"\"\n",
    "    Preprocess target data for encoding\n",
    "    :param target_data: Target Placehoder\n",
    "    :param target_vocab_to_int: Dictionary to go from the target words to an id\n",
    "    :param batch_size: Batch Size\n",
    "    :return: Preprocessed target data\n",
    "    \"\"\"\n",
    "    # TODO: Implement Function\n",
    "    ending = tf.strided_slice(target_data, [0, 0], [batch_size, -1], [1, 1])\n",
    "    dec_input = tf.concat([tf.fill([batch_size, 1], target_vocab_to_int['<GO>']), ending], 1)\n",
    "    return dec_input\n",
    "\n",
    "\"\"\"\n",
    "DON'T MODIFY ANYTHING IN THIS CELL THAT IS BELOW THIS LINE\n",
    "\"\"\"\n",
    "tests.test_process_encoding_input(process_decoder_input)"
   ]
  },
  {
   "cell_type": "markdown",
   "metadata": {
    "deletable": true,
    "editable": true
   },
   "source": [
    "### Encoding\n",
    "Implement `encoding_layer()` to create a Encoder RNN layer:\n",
    " * Embed the encoder input using [`tf.contrib.layers.embed_sequence`](https://www.tensorflow.org/api_docs/python/tf/contrib/layers/embed_sequence)\n",
    " * Construct a [stacked](https://github.com/tensorflow/tensorflow/blob/6947f65a374ebf29e74bb71e36fd82760056d82c/tensorflow/docs_src/tutorials/recurrent.md#stacking-multiple-lstms) [`tf.contrib.rnn.LSTMCell`](https://www.tensorflow.org/api_docs/python/tf/contrib/rnn/LSTMCell) wrapped in a [`tf.contrib.rnn.DropoutWrapper`](https://www.tensorflow.org/api_docs/python/tf/contrib/rnn/DropoutWrapper)\n",
    " * Pass cell and embedded input to [`tf.nn.dynamic_rnn()`](https://www.tensorflow.org/api_docs/python/tf/nn/dynamic_rnn)"
   ]
  },
  {
   "cell_type": "code",
   "execution_count": 12,
   "metadata": {
    "collapsed": false,
    "deletable": true,
    "editable": true,
    "scrolled": false
   },
   "outputs": [
    {
     "name": "stdout",
     "output_type": "stream",
     "text": [
      "Tests Passed\n"
     ]
    }
   ],
   "source": [
    "from imp import reload\n",
    "reload(tests)\n",
    "\n",
    "def encoding_layer(rnn_inputs, rnn_size, num_layers, keep_prob, \n",
    "                   source_sequence_length, source_vocab_size, \n",
    "                   encoding_embedding_size):\n",
    "    \"\"\"\n",
    "    Create encoding layer\n",
    "    :param rnn_inputs: Inputs for the RNN\n",
    "    :param rnn_size: RNN Size\n",
    "    :param num_layers: Number of layers\n",
    "    :param keep_prob: Dropout keep probability\n",
    "    :param source_sequence_length: a list of the lengths of each sequence in the batch\n",
    "    :param source_vocab_size: vocabulary size of source data\n",
    "    :param encoding_embedding_size: embedding size of source data\n",
    "    :return: tuple (RNN output, RNN state)\n",
    "    \"\"\"\n",
    "    # TODO: Implement Function\n",
    "    enc_embed_input = tf.contrib.layers.embed_sequence(rnn_inputs, source_vocab_size, encoding_embedding_size)\n",
    "    \n",
    "    # RNN cell\n",
    "    def make_cell(rnn_size):\n",
    "        enc_cell = tf.contrib.rnn.LSTMCell(rnn_size, initializer=tf.random_uniform_initializer(-0.1, 0.1, seed=2))\n",
    "        enc_cell = tf.contrib.rnn.DropoutWrapper(enc_cell, output_keep_prob=keep_prob)\n",
    "        return enc_cell\n",
    "\n",
    "    enc_cell = tf.contrib.rnn.MultiRNNCell([make_cell(rnn_size) for _ in range(num_layers)])\n",
    "    enc_output, enc_state = tf.nn.dynamic_rnn(enc_cell, enc_embed_input, sequence_length=source_sequence_length, dtype=tf.float32)\n",
    "    \n",
    "    return enc_output, enc_state\n",
    "\n",
    "\"\"\"\n",
    "DON'T MODIFY ANYTHING IN THIS CELL THAT IS BELOW THIS LINE\n",
    "\"\"\"\n",
    "tests.test_encoding_layer(encoding_layer)"
   ]
  },
  {
   "cell_type": "markdown",
   "metadata": {
    "deletable": true,
    "editable": true
   },
   "source": [
    "### Decoding - Training\n",
    "Create a training decoding layer:\n",
    "* Create a [`tf.contrib.seq2seq.TrainingHelper`](https://www.tensorflow.org/api_docs/python/tf/contrib/seq2seq/TrainingHelper) \n",
    "* Create a [`tf.contrib.seq2seq.BasicDecoder`](https://www.tensorflow.org/api_docs/python/tf/contrib/seq2seq/BasicDecoder)\n",
    "* Obtain the decoder outputs from [`tf.contrib.seq2seq.dynamic_decode`](https://www.tensorflow.org/api_docs/python/tf/contrib/seq2seq/dynamic_decode)"
   ]
  },
  {
   "cell_type": "code",
   "execution_count": 16,
   "metadata": {
    "collapsed": false,
    "deletable": true,
    "editable": true
   },
   "outputs": [
    {
     "name": "stdout",
     "output_type": "stream",
     "text": [
      "Tests Passed\n"
     ]
    }
   ],
   "source": [
    "\n",
    "def decoding_layer_train(encoder_state, dec_cell, dec_embed_input, \n",
    "                         target_sequence_length, max_summary_length, \n",
    "                         output_layer, keep_prob):\n",
    "    \"\"\"\n",
    "    Create a decoding layer for training\n",
    "    :param encoder_state: Encoder State\n",
    "    :param dec_cell: Decoder RNN Cell\n",
    "    :param dec_embed_input: Decoder embedded input\n",
    "    :param target_sequence_length: The lengths of each sequence in the target batch\n",
    "    :param max_summary_length: The length of the longest sequence in the batch\n",
    "    :param output_layer: Function to apply the output layer\n",
    "    :param keep_prob: Dropout keep probability\n",
    "    :return: BasicDecoderOutput containing training logits and sample_id\n",
    "    \"\"\"\n",
    "    # TODO: Implement Function\n",
    "    # Helper for the training process. Used by BasicDecoder to read inputs.\n",
    "    training_helper = tf.contrib.seq2seq.TrainingHelper(inputs=dec_embed_input,\n",
    "                                                        sequence_length=target_sequence_length,\n",
    "                                                        time_major=False)\n",
    "    # Basic decoder\n",
    "    training_decoder = tf.contrib.seq2seq.BasicDecoder(dec_cell,\n",
    "                                                       training_helper,\n",
    "                                                       encoder_state,\n",
    "                                                       output_layer) \n",
    "\n",
    "    # Perform dynamic decoding using the decoder\n",
    "    training_decoder_output, _ = tf.contrib.seq2seq.dynamic_decode(training_decoder,\n",
    "                                                                   impute_finished=True,\n",
    "                                                                   maximum_iterations=max_summary_length)\n",
    "    return training_decoder_output\n",
    "\n",
    "\"\"\"\n",
    "DON'T MODIFY ANYTHING IN THIS CELL THAT IS BELOW THIS LINE\n",
    "\"\"\"\n",
    "tests.test_decoding_layer_train(decoding_layer_train)"
   ]
  },
  {
   "cell_type": "markdown",
   "metadata": {
    "deletable": true,
    "editable": true
   },
   "source": [
    "### Decoding - Inference\n",
    "Create inference decoder:\n",
    "* Create a [`tf.contrib.seq2seq.GreedyEmbeddingHelper`](https://www.tensorflow.org/api_docs/python/tf/contrib/seq2seq/GreedyEmbeddingHelper)\n",
    "* Create a [`tf.contrib.seq2seq.BasicDecoder`](https://www.tensorflow.org/api_docs/python/tf/contrib/seq2seq/BasicDecoder)\n",
    "* Obtain the decoder outputs from [`tf.contrib.seq2seq.dynamic_decode`](https://www.tensorflow.org/api_docs/python/tf/contrib/seq2seq/dynamic_decode)"
   ]
  },
  {
   "cell_type": "code",
   "execution_count": 19,
   "metadata": {
    "collapsed": false,
    "deletable": true,
    "editable": true,
    "scrolled": true
   },
   "outputs": [
    {
     "name": "stdout",
     "output_type": "stream",
     "text": [
      "Tests Passed\n"
     ]
    }
   ],
   "source": [
    "def decoding_layer_infer(encoder_state, dec_cell, dec_embeddings, start_of_sequence_id,\n",
    "                         end_of_sequence_id, max_target_sequence_length,\n",
    "                         vocab_size, output_layer, batch_size, keep_prob):\n",
    "    \"\"\"\n",
    "    Create a decoding layer for inference\n",
    "    :param encoder_state: Encoder state\n",
    "    :param dec_cell: Decoder RNN Cell\n",
    "    :param dec_embeddings: Decoder embeddings\n",
    "    :param start_of_sequence_id: GO ID\n",
    "    :param end_of_sequence_id: EOS Id\n",
    "    :param max_target_sequence_length: Maximum length of target sequences\n",
    "    :param vocab_size: Size of decoder/target vocabulary\n",
    "    :param decoding_scope: TenorFlow Variable Scope for decoding\n",
    "    :param output_layer: Function to apply the output layer\n",
    "    :param batch_size: Batch size\n",
    "    :param keep_prob: Dropout keep probability\n",
    "    :return: BasicDecoderOutput containing inference logits and sample_id\n",
    "    \"\"\"\n",
    "    # TODO: Implement Function\n",
    "    # Helper for the inference process.\n",
    "    start_tokens = tf.tile(tf.constant([start_of_sequence_id], dtype=tf.int32), \n",
    "                           [batch_size], \n",
    "                           name='start_tokens')\n",
    "    \n",
    "    inference_helper = tf.contrib.seq2seq.GreedyEmbeddingHelper(dec_embeddings, \n",
    "                                                                start_tokens, \n",
    "                                                                end_of_sequence_id)\n",
    "\n",
    "    # Basic decoder\n",
    "    inference_decoder = tf.contrib.seq2seq.BasicDecoder(dec_cell,\n",
    "                                                        inference_helper,\n",
    "                                                        encoder_state,\n",
    "                                                        output_layer)\n",
    "    \n",
    "    # Perform dynamic decoding using the decoder\n",
    "    inference_decoder_output, _ = tf.contrib.seq2seq.dynamic_decode(inference_decoder,\n",
    "                                                                    impute_finished=True,\n",
    "                                                                    maximum_iterations=max_target_sequence_length)\n",
    "    return inference_decoder_output\n",
    "\n",
    "\n",
    "\n",
    "\"\"\"\n",
    "DON'T MODIFY ANYTHING IN THIS CELL THAT IS BELOW THIS LINE\n",
    "\"\"\"\n",
    "tests.test_decoding_layer_infer(decoding_layer_infer)"
   ]
  },
  {
   "cell_type": "markdown",
   "metadata": {
    "deletable": true,
    "editable": true
   },
   "source": [
    "### Build the Decoding Layer\n",
    "Implement `decoding_layer()` to create a Decoder RNN layer.\n",
    "\n",
    "* Embed the target sequences\n",
    "* Construct the decoder LSTM cell (just like you constructed the encoder cell above)\n",
    "* Create an output layer to map the outputs of the decoder to the elements of our vocabulary\n",
    "* Use the your `decoding_layer_train(encoder_state, dec_cell, dec_embed_input, target_sequence_length, max_target_sequence_length, output_layer, keep_prob)` function to get the training logits.\n",
    "* Use your `decoding_layer_infer(encoder_state, dec_cell, dec_embeddings, start_of_sequence_id, end_of_sequence_id, max_target_sequence_length, vocab_size, output_layer, batch_size, keep_prob)` function to get the inference logits.\n",
    "\n",
    "Note: You'll need to use [tf.variable_scope](https://www.tensorflow.org/api_docs/python/tf/variable_scope) to share variables between training and inference."
   ]
  },
  {
   "cell_type": "code",
   "execution_count": 22,
   "metadata": {
    "collapsed": false,
    "deletable": true,
    "editable": true
   },
   "outputs": [
    {
     "name": "stdout",
     "output_type": "stream",
     "text": [
      "Tests Passed\n"
     ]
    }
   ],
   "source": [
    "def decoding_layer(dec_input, encoder_state,\n",
    "                   target_sequence_length, max_target_sequence_length,\n",
    "                   rnn_size,\n",
    "                   num_layers, target_vocab_to_int, target_vocab_size,\n",
    "                   batch_size, keep_prob, decoding_embedding_size):\n",
    "    \"\"\"\n",
    "    Create decoding layer\n",
    "    :param dec_input: Decoder input\n",
    "    :param encoder_state: Encoder state\n",
    "    :param target_sequence_length: The lengths of each sequence in the target batch\n",
    "    :param max_target_sequence_length: Maximum length of target sequences\n",
    "    :param rnn_size: RNN Size\n",
    "    :param num_layers: Number of layers\n",
    "    :param target_vocab_to_int: Dictionary to go from the target words to an id\n",
    "    :param target_vocab_size: Size of target vocabulary\n",
    "    :param batch_size: The size of the batch\n",
    "    :param keep_prob: Dropout keep probability\n",
    "    :param decoding_embedding_size: Decoding embedding size\n",
    "    :return: Tuple of (Training BasicDecoderOutput, Inference BasicDecoderOutput)\n",
    "    \"\"\"\n",
    "    # TODO: Implement Function\n",
    "    \n",
    "    # 1. Decoder Embedding\n",
    "    dec_embeddings = tf.Variable(tf.random_uniform([target_vocab_size, decoding_embedding_size]))\n",
    "    dec_embed_input = tf.nn.embedding_lookup(dec_embeddings, dec_input)\n",
    "    \n",
    "    # 2. Construct the decoder cell\n",
    "    def make_cell(rnn_size):\n",
    "        dec_cell = tf.contrib.rnn.LSTMCell(rnn_size,\n",
    "                                           initializer=tf.random_uniform_initializer(-0.1, 0.1, seed=2))\n",
    "        dec_cell = tf.contrib.rnn.DropoutWrapper(dec_cell, output_keep_prob=keep_prob)\n",
    "        return dec_cell\n",
    "\n",
    "    dec_cell = tf.contrib.rnn.MultiRNNCell([make_cell(rnn_size) for _ in range(num_layers)])\n",
    "    \n",
    "    # 3. Dense layer to translate the decoder's output at each time \n",
    "    # step into a choice from the target vocabulary\n",
    "    output_layer = Dense(target_vocab_size,\n",
    "                         kernel_initializer = tf.truncated_normal_initializer(mean = 0.0, stddev=0.1))\n",
    "\n",
    "    with tf.variable_scope(\"decode\"):\n",
    "        training_decoder_output = decoding_layer_train(encoder_state, \n",
    "                                                       dec_cell, \n",
    "                                                       dec_embed_input, \n",
    "                                                       target_sequence_length, \n",
    "                                                       max_target_sequence_length, \n",
    "                                                       output_layer, \n",
    "                                                       keep_prob)\n",
    "    \n",
    "    with tf.variable_scope(\"decode\", reuse=True):\n",
    "        inference_decoder_output = decoding_layer_infer(encoder_state, \n",
    "                                                        dec_cell, \n",
    "                                                        dec_embeddings, \n",
    "                                                        target_vocab_to_int['<GO>'], \n",
    "                                                        target_vocab_to_int['<EOS>'], \n",
    "                                                        max_target_sequence_length, \n",
    "                                                        target_vocab_size, \n",
    "                                                        output_layer, \n",
    "                                                        batch_size, \n",
    "                                                        keep_prob)\n",
    "    \n",
    "    return training_decoder_output, inference_decoder_output\n",
    "\n",
    "\n",
    "\n",
    "\"\"\"\n",
    "DON'T MODIFY ANYTHING IN THIS CELL THAT IS BELOW THIS LINE\n",
    "\"\"\"\n",
    "tests.test_decoding_layer(decoding_layer)"
   ]
  },
  {
   "cell_type": "markdown",
   "metadata": {
    "deletable": true,
    "editable": true
   },
   "source": [
    "### Build the Neural Network\n",
    "Apply the functions you implemented above to:\n",
    "\n",
    "- Encode the input using your `encoding_layer(rnn_inputs, rnn_size, num_layers, keep_prob,  source_sequence_length, source_vocab_size, encoding_embedding_size)`.\n",
    "- Process target data using your `process_decoder_input(target_data, target_vocab_to_int, batch_size)` function.\n",
    "- Decode the encoded input using your `decoding_layer(dec_input, enc_state, target_sequence_length, max_target_sentence_length, rnn_size, num_layers, target_vocab_to_int, target_vocab_size, batch_size, keep_prob, dec_embedding_size)` function."
   ]
  },
  {
   "cell_type": "code",
   "execution_count": 23,
   "metadata": {
    "collapsed": false,
    "deletable": true,
    "editable": true
   },
   "outputs": [
    {
     "name": "stdout",
     "output_type": "stream",
     "text": [
      "Tests Passed\n"
     ]
    }
   ],
   "source": [
    "def seq2seq_model(input_data, target_data, keep_prob, batch_size,\n",
    "                  source_sequence_length, target_sequence_length,\n",
    "                  max_target_sentence_length,\n",
    "                  source_vocab_size, target_vocab_size,\n",
    "                  enc_embedding_size, dec_embedding_size,\n",
    "                  rnn_size, num_layers, target_vocab_to_int):\n",
    "    \"\"\"\n",
    "    Build the Sequence-to-Sequence part of the neural network\n",
    "    :param input_data: Input placeholder\n",
    "    :param target_data: Target placeholder\n",
    "    :param keep_prob: Dropout keep probability placeholder\n",
    "    :param batch_size: Batch Size\n",
    "    :param source_sequence_length: Sequence Lengths of source sequences in the batch\n",
    "    :param target_sequence_length: Sequence Lengths of target sequences in the batch\n",
    "    :param source_vocab_size: Source vocabulary size\n",
    "    :param target_vocab_size: Target vocabulary size\n",
    "    :param enc_embedding_size: Decoder embedding size\n",
    "    :param dec_embedding_size: Encoder embedding size\n",
    "    :param rnn_size: RNN Size\n",
    "    :param num_layers: Number of layers\n",
    "    :param target_vocab_to_int: Dictionary to go from the target words to an id\n",
    "    :return: Tuple of (Training BasicDecoderOutput, Inference BasicDecoderOutput)\n",
    "    \"\"\"\n",
    "    # TODO: Implement Function\n",
    "    # Pass the input data through the encoder. We'll ignore the encoder output, but use the state\n",
    "    _, enc_state = encoding_layer(input_data, \n",
    "                                  rnn_size, \n",
    "                                  num_layers, \n",
    "                                  keep_prob,\n",
    "                                  source_sequence_length,\n",
    "                                  source_vocab_size, \n",
    "                                  enc_embedding_size)\n",
    "    \n",
    "    # Prepare the target sequences we'll feed to the decoder in training mode\n",
    "    dec_input = process_decoder_input(target_data, target_vocab_to_int, batch_size)\n",
    "    \n",
    "    # Pass encoder state and decoder inputs to the decoders\n",
    "    training_decoder_output, inference_decoder_output = decoding_layer(dec_input, \n",
    "                                                                       enc_state, \n",
    "                                                                       target_sequence_length, \n",
    "                                                                       max_target_sentence_length, \n",
    "                                                                       rnn_size, \n",
    "                                                                       num_layers, \n",
    "                                                                       target_vocab_to_int, \n",
    "                                                                       target_vocab_size, \n",
    "                                                                       batch_size, \n",
    "                                                                       keep_prob, \n",
    "                                                                       dec_embedding_size)\n",
    "    \n",
    "    return training_decoder_output, inference_decoder_output\n",
    "\n",
    "\n",
    "\"\"\"\n",
    "DON'T MODIFY ANYTHING IN THIS CELL THAT IS BELOW THIS LINE\n",
    "\"\"\"\n",
    "tests.test_seq2seq_model(seq2seq_model)"
   ]
  },
  {
   "cell_type": "markdown",
   "metadata": {
    "deletable": true,
    "editable": true
   },
   "source": [
    "## Neural Network Training\n",
    "### Hyperparameters\n",
    "Tune the following parameters:\n",
    "\n",
    "- Set `epochs` to the number of epochs.\n",
    "- Set `batch_size` to the batch size.\n",
    "- Set `rnn_size` to the size of the RNNs.\n",
    "- Set `num_layers` to the number of layers.\n",
    "- Set `encoding_embedding_size` to the size of the embedding for the encoder.\n",
    "- Set `decoding_embedding_size` to the size of the embedding for the decoder.\n",
    "- Set `learning_rate` to the learning rate.\n",
    "- Set `keep_probability` to the Dropout keep probability\n",
    "- Set `display_step` to state how many steps between each debug output statement"
   ]
  },
  {
   "cell_type": "code",
   "execution_count": 32,
   "metadata": {
    "collapsed": true,
    "deletable": true,
    "editable": true
   },
   "outputs": [],
   "source": [
    "# Number of Epochs\n",
    "epochs = 12\n",
    "# Batch Size\n",
    "batch_size = 512\n",
    "# RNN Size\n",
    "rnn_size = 256\n",
    "# Number of Layers\n",
    "num_layers = 2\n",
    "# Embedding Size\n",
    "encoding_embedding_size = 210\n",
    "decoding_embedding_size = 210\n",
    "# Learning Rate\n",
    "learning_rate = 0.001\n",
    "# Dropout Keep Probability\n",
    "keep_probability = 0.5\n",
    "display_step = 10"
   ]
  },
  {
   "cell_type": "markdown",
   "metadata": {
    "deletable": true,
    "editable": true
   },
   "source": [
    "### Build the Graph\n",
    "Build the graph using the neural network you implemented."
   ]
  },
  {
   "cell_type": "code",
   "execution_count": 33,
   "metadata": {
    "collapsed": true,
    "deletable": true,
    "editable": true
   },
   "outputs": [],
   "source": [
    "\"\"\"\n",
    "DON'T MODIFY ANYTHING IN THIS CELL\n",
    "\"\"\"\n",
    "save_path = 'checkpoints/dev'\n",
    "(source_int_text, target_int_text), (source_vocab_to_int, target_vocab_to_int), _ = helper.load_preprocess()\n",
    "max_target_sentence_length = max([len(sentence) for sentence in source_int_text])\n",
    "\n",
    "train_graph = tf.Graph()\n",
    "with train_graph.as_default():\n",
    "    input_data, targets, lr, keep_prob, target_sequence_length, max_target_sequence_length, source_sequence_length = model_inputs()\n",
    "\n",
    "    #sequence_length = tf.placeholder_with_default(max_target_sentence_length, None, name='sequence_length')\n",
    "    input_shape = tf.shape(input_data)\n",
    "\n",
    "    train_logits, inference_logits = seq2seq_model(tf.reverse(input_data, [-1]),\n",
    "                                                   targets,\n",
    "                                                   keep_prob,\n",
    "                                                   batch_size,\n",
    "                                                   source_sequence_length,\n",
    "                                                   target_sequence_length,\n",
    "                                                   max_target_sequence_length,\n",
    "                                                   len(source_vocab_to_int),\n",
    "                                                   len(target_vocab_to_int),\n",
    "                                                   encoding_embedding_size,\n",
    "                                                   decoding_embedding_size,\n",
    "                                                   rnn_size,\n",
    "                                                   num_layers,\n",
    "                                                   target_vocab_to_int)\n",
    "\n",
    "\n",
    "    training_logits = tf.identity(train_logits.rnn_output, name='logits')\n",
    "    inference_logits = tf.identity(inference_logits.sample_id, name='predictions')\n",
    "\n",
    "    masks = tf.sequence_mask(target_sequence_length, max_target_sequence_length, dtype=tf.float32, name='masks')\n",
    "\n",
    "    with tf.name_scope(\"optimization\"):\n",
    "        # Loss function\n",
    "        cost = tf.contrib.seq2seq.sequence_loss(\n",
    "            training_logits,\n",
    "            targets,\n",
    "            masks)\n",
    "\n",
    "        # Optimizer\n",
    "        optimizer = tf.train.AdamOptimizer(lr)\n",
    "\n",
    "        # Gradient Clipping\n",
    "        gradients = optimizer.compute_gradients(cost)\n",
    "        capped_gradients = [(tf.clip_by_value(grad, -1., 1.), var) for grad, var in gradients if grad is not None]\n",
    "        train_op = optimizer.apply_gradients(capped_gradients)\n"
   ]
  },
  {
   "cell_type": "markdown",
   "metadata": {
    "deletable": true,
    "editable": true
   },
   "source": [
    "Batch and pad the source and target sequences"
   ]
  },
  {
   "cell_type": "code",
   "execution_count": 34,
   "metadata": {
    "collapsed": true,
    "deletable": true,
    "editable": true
   },
   "outputs": [],
   "source": [
    "\"\"\"\n",
    "DON'T MODIFY ANYTHING IN THIS CELL\n",
    "\"\"\"\n",
    "def pad_sentence_batch(sentence_batch, pad_int):\n",
    "    \"\"\"Pad sentences with <PAD> so that each sentence of a batch has the same length\"\"\"\n",
    "    max_sentence = max([len(sentence) for sentence in sentence_batch])\n",
    "    return [sentence + [pad_int] * (max_sentence - len(sentence)) for sentence in sentence_batch]\n",
    "\n",
    "\n",
    "def get_batches(sources, targets, batch_size, source_pad_int, target_pad_int):\n",
    "    \"\"\"Batch targets, sources, and the lengths of their sentences together\"\"\"\n",
    "    for batch_i in range(0, len(sources)//batch_size):\n",
    "        start_i = batch_i * batch_size\n",
    "\n",
    "        # Slice the right amount for the batch\n",
    "        sources_batch = sources[start_i:start_i + batch_size]\n",
    "        targets_batch = targets[start_i:start_i + batch_size]\n",
    "\n",
    "        # Pad\n",
    "        pad_sources_batch = np.array(pad_sentence_batch(sources_batch, source_pad_int))\n",
    "        pad_targets_batch = np.array(pad_sentence_batch(targets_batch, target_pad_int))\n",
    "\n",
    "        # Need the lengths for the _lengths parameters\n",
    "        pad_targets_lengths = []\n",
    "        for target in pad_targets_batch:\n",
    "            pad_targets_lengths.append(len(target))\n",
    "\n",
    "        pad_source_lengths = []\n",
    "        for source in pad_sources_batch:\n",
    "            pad_source_lengths.append(len(source))\n",
    "\n",
    "        yield pad_sources_batch, pad_targets_batch, pad_source_lengths, pad_targets_lengths\n"
   ]
  },
  {
   "cell_type": "markdown",
   "metadata": {
    "deletable": true,
    "editable": true
   },
   "source": [
    "### Train\n",
    "Train the neural network on the preprocessed data. If you have a hard time getting a good loss, check the forms to see if anyone is having the same problem."
   ]
  },
  {
   "cell_type": "code",
   "execution_count": 35,
   "metadata": {
    "collapsed": false,
    "deletable": true,
    "editable": true,
    "scrolled": true
   },
   "outputs": [
    {
     "name": "stdout",
     "output_type": "stream",
     "text": [
      "Epoch   0 Batch   10/269 - Train Accuracy: 0.3064, Validation Accuracy: 0.3733, Loss: 3.6570\n",
      "Epoch   0 Batch   20/269 - Train Accuracy: 0.3691, Validation Accuracy: 0.4271, Loss: 3.0714\n",
      "Epoch   0 Batch   30/269 - Train Accuracy: 0.4311, Validation Accuracy: 0.4609, Loss: 2.7084\n",
      "Epoch   0 Batch   40/269 - Train Accuracy: 0.4396, Validation Accuracy: 0.4885, Loss: 2.5772\n",
      "Epoch   0 Batch   50/269 - Train Accuracy: 0.4562, Validation Accuracy: 0.5059, Loss: 2.4068\n",
      "Epoch   0 Batch   60/269 - Train Accuracy: 0.4910, Validation Accuracy: 0.5045, Loss: 2.0254\n",
      "Epoch   0 Batch   70/269 - Train Accuracy: 0.4962, Validation Accuracy: 0.5038, Loss: 1.9430\n",
      "Epoch   0 Batch   80/269 - Train Accuracy: 0.4528, Validation Accuracy: 0.4750, Loss: 1.7789\n",
      "Epoch   0 Batch   90/269 - Train Accuracy: 0.4451, Validation Accuracy: 0.5123, Loss: 1.7898\n",
      "Epoch   0 Batch  100/269 - Train Accuracy: 0.4680, Validation Accuracy: 0.4835, Loss: 1.5530\n",
      "Epoch   0 Batch  110/269 - Train Accuracy: 0.4834, Validation Accuracy: 0.5127, Loss: 1.5103\n",
      "Epoch   0 Batch  120/269 - Train Accuracy: 0.4694, Validation Accuracy: 0.5174, Loss: 1.5032\n",
      "Epoch   0 Batch  130/269 - Train Accuracy: 0.4781, Validation Accuracy: 0.5260, Loss: 1.4434\n",
      "Epoch   0 Batch  140/269 - Train Accuracy: 0.5251, Validation Accuracy: 0.5406, Loss: 1.2841\n",
      "Epoch   0 Batch  150/269 - Train Accuracy: 0.5189, Validation Accuracy: 0.5412, Loss: 1.2270\n",
      "Epoch   0 Batch  160/269 - Train Accuracy: 0.5396, Validation Accuracy: 0.5614, Loss: 1.1638\n",
      "Epoch   0 Batch  170/269 - Train Accuracy: 0.5305, Validation Accuracy: 0.5639, Loss: 1.0819\n",
      "Epoch   0 Batch  180/269 - Train Accuracy: 0.5562, Validation Accuracy: 0.5667, Loss: 1.0301\n",
      "Epoch   0 Batch  190/269 - Train Accuracy: 0.5499, Validation Accuracy: 0.5736, Loss: 0.9794\n",
      "Epoch   0 Batch  200/269 - Train Accuracy: 0.5368, Validation Accuracy: 0.5607, Loss: 0.9755\n",
      "Epoch   0 Batch  210/269 - Train Accuracy: 0.5760, Validation Accuracy: 0.5724, Loss: 0.9048\n",
      "Epoch   0 Batch  220/269 - Train Accuracy: 0.5739, Validation Accuracy: 0.5771, Loss: 0.8503\n",
      "Epoch   0 Batch  230/269 - Train Accuracy: 0.5642, Validation Accuracy: 0.5824, Loss: 0.8684\n",
      "Epoch   0 Batch  240/269 - Train Accuracy: 0.6093, Validation Accuracy: 0.5884, Loss: 0.7612\n",
      "Epoch   0 Batch  250/269 - Train Accuracy: 0.5521, Validation Accuracy: 0.5859, Loss: 0.8344\n",
      "Epoch   0 Batch  260/269 - Train Accuracy: 0.5731, Validation Accuracy: 0.6000, Loss: 0.8396\n",
      "Epoch   1 Batch   10/269 - Train Accuracy: 0.5938, Validation Accuracy: 0.6151, Loss: 0.7736\n",
      "Epoch   1 Batch   20/269 - Train Accuracy: 0.6054, Validation Accuracy: 0.6190, Loss: 0.7605\n",
      "Epoch   1 Batch   30/269 - Train Accuracy: 0.6174, Validation Accuracy: 0.6173, Loss: 0.7073\n",
      "Epoch   1 Batch   40/269 - Train Accuracy: 0.6136, Validation Accuracy: 0.6349, Loss: 0.7253\n",
      "Epoch   1 Batch   50/269 - Train Accuracy: 0.6235, Validation Accuracy: 0.6409, Loss: 0.7051\n",
      "Epoch   1 Batch   60/269 - Train Accuracy: 0.6422, Validation Accuracy: 0.6474, Loss: 0.6297\n",
      "Epoch   1 Batch   70/269 - Train Accuracy: 0.6461, Validation Accuracy: 0.6343, Loss: 0.6557\n",
      "Epoch   1 Batch   80/269 - Train Accuracy: 0.6544, Validation Accuracy: 0.6406, Loss: 0.6346\n",
      "Epoch   1 Batch   90/269 - Train Accuracy: 0.6076, Validation Accuracy: 0.6381, Loss: 0.6600\n",
      "Epoch   1 Batch  100/269 - Train Accuracy: 0.6666, Validation Accuracy: 0.6460, Loss: 0.5977\n",
      "Epoch   1 Batch  110/269 - Train Accuracy: 0.6382, Validation Accuracy: 0.6424, Loss: 0.5944\n",
      "Epoch   1 Batch  120/269 - Train Accuracy: 0.6290, Validation Accuracy: 0.6484, Loss: 0.6208\n",
      "Epoch   1 Batch  130/269 - Train Accuracy: 0.6315, Validation Accuracy: 0.6499, Loss: 0.6149\n",
      "Epoch   1 Batch  140/269 - Train Accuracy: 0.6543, Validation Accuracy: 0.6513, Loss: 0.5867\n",
      "Epoch   1 Batch  150/269 - Train Accuracy: 0.6600, Validation Accuracy: 0.6650, Loss: 0.5713\n",
      "Epoch   1 Batch  160/269 - Train Accuracy: 0.6547, Validation Accuracy: 0.6668, Loss: 0.5563\n",
      "Epoch   1 Batch  170/269 - Train Accuracy: 0.6589, Validation Accuracy: 0.6621, Loss: 0.5491\n",
      "Epoch   1 Batch  180/269 - Train Accuracy: 0.6622, Validation Accuracy: 0.6653, Loss: 0.5420\n",
      "Epoch   1 Batch  190/269 - Train Accuracy: 0.6697, Validation Accuracy: 0.6758, Loss: 0.5166\n",
      "Epoch   1 Batch  200/269 - Train Accuracy: 0.6850, Validation Accuracy: 0.6890, Loss: 0.5342\n",
      "Epoch   1 Batch  210/269 - Train Accuracy: 0.6916, Validation Accuracy: 0.6865, Loss: 0.5009\n",
      "Epoch   1 Batch  220/269 - Train Accuracy: 0.6987, Validation Accuracy: 0.6967, Loss: 0.4756\n",
      "Epoch   1 Batch  230/269 - Train Accuracy: 0.6802, Validation Accuracy: 0.7041, Loss: 0.4868\n",
      "Epoch   1 Batch  240/269 - Train Accuracy: 0.7225, Validation Accuracy: 0.7086, Loss: 0.4323\n",
      "Epoch   1 Batch  250/269 - Train Accuracy: 0.7117, Validation Accuracy: 0.7232, Loss: 0.4739\n",
      "Epoch   1 Batch  260/269 - Train Accuracy: 0.7069, Validation Accuracy: 0.7189, Loss: 0.4704\n",
      "Epoch   2 Batch   10/269 - Train Accuracy: 0.7251, Validation Accuracy: 0.7225, Loss: 0.4449\n",
      "Epoch   2 Batch   20/269 - Train Accuracy: 0.7130, Validation Accuracy: 0.7334, Loss: 0.4354\n",
      "Epoch   2 Batch   30/269 - Train Accuracy: 0.7419, Validation Accuracy: 0.7458, Loss: 0.4131\n",
      "Epoch   2 Batch   40/269 - Train Accuracy: 0.7413, Validation Accuracy: 0.7481, Loss: 0.4217\n",
      "Epoch   2 Batch   50/269 - Train Accuracy: 0.7091, Validation Accuracy: 0.7338, Loss: 0.4199\n",
      "Epoch   2 Batch   60/269 - Train Accuracy: 0.7382, Validation Accuracy: 0.7425, Loss: 0.3776\n",
      "Epoch   2 Batch   70/269 - Train Accuracy: 0.7573, Validation Accuracy: 0.7451, Loss: 0.3849\n",
      "Epoch   2 Batch   80/269 - Train Accuracy: 0.7681, Validation Accuracy: 0.7675, Loss: 0.3549\n",
      "Epoch   2 Batch   90/269 - Train Accuracy: 0.7366, Validation Accuracy: 0.7710, Loss: 0.3776\n",
      "Epoch   2 Batch  100/269 - Train Accuracy: 0.7952, Validation Accuracy: 0.7732, Loss: 0.3417\n",
      "Epoch   2 Batch  110/269 - Train Accuracy: 0.7681, Validation Accuracy: 0.7787, Loss: 0.3326\n",
      "Epoch   2 Batch  120/269 - Train Accuracy: 0.7513, Validation Accuracy: 0.7574, Loss: 0.3415\n",
      "Epoch   2 Batch  130/269 - Train Accuracy: 0.7654, Validation Accuracy: 0.7753, Loss: 0.3453\n",
      "Epoch   2 Batch  140/269 - Train Accuracy: 0.7983, Validation Accuracy: 0.7914, Loss: 0.3287\n",
      "Epoch   2 Batch  150/269 - Train Accuracy: 0.7821, Validation Accuracy: 0.7874, Loss: 0.3183\n",
      "Epoch   2 Batch  160/269 - Train Accuracy: 0.7996, Validation Accuracy: 0.8113, Loss: 0.3058\n",
      "Epoch   2 Batch  170/269 - Train Accuracy: 0.7919, Validation Accuracy: 0.8116, Loss: 0.3014\n",
      "Epoch   2 Batch  180/269 - Train Accuracy: 0.8129, Validation Accuracy: 0.8029, Loss: 0.2898\n",
      "Epoch   2 Batch  190/269 - Train Accuracy: 0.8255, Validation Accuracy: 0.8189, Loss: 0.2714\n",
      "Epoch   2 Batch  200/269 - Train Accuracy: 0.7920, Validation Accuracy: 0.8088, Loss: 0.3000\n",
      "Epoch   2 Batch  210/269 - Train Accuracy: 0.8200, Validation Accuracy: 0.8139, Loss: 0.2687\n",
      "Epoch   2 Batch  220/269 - Train Accuracy: 0.8358, Validation Accuracy: 0.8208, Loss: 0.2529\n",
      "Epoch   2 Batch  230/269 - Train Accuracy: 0.8221, Validation Accuracy: 0.8208, Loss: 0.2594\n",
      "Epoch   2 Batch  240/269 - Train Accuracy: 0.8630, Validation Accuracy: 0.8330, Loss: 0.2344\n",
      "Epoch   2 Batch  250/269 - Train Accuracy: 0.8508, Validation Accuracy: 0.8366, Loss: 0.2449\n",
      "Epoch   2 Batch  260/269 - Train Accuracy: 0.8183, Validation Accuracy: 0.8297, Loss: 0.2603\n",
      "Epoch   3 Batch   10/269 - Train Accuracy: 0.8498, Validation Accuracy: 0.8414, Loss: 0.2265\n",
      "Epoch   3 Batch   20/269 - Train Accuracy: 0.8666, Validation Accuracy: 0.8615, Loss: 0.2265\n",
      "Epoch   3 Batch   30/269 - Train Accuracy: 0.8569, Validation Accuracy: 0.8426, Loss: 0.2208\n",
      "Epoch   3 Batch   40/269 - Train Accuracy: 0.8485, Validation Accuracy: 0.8546, Loss: 0.2191\n",
      "Epoch   3 Batch   50/269 - Train Accuracy: 0.8496, Validation Accuracy: 0.8604, Loss: 0.2251\n",
      "Epoch   3 Batch   60/269 - Train Accuracy: 0.8706, Validation Accuracy: 0.8619, Loss: 0.1853\n",
      "Epoch   3 Batch   70/269 - Train Accuracy: 0.8759, Validation Accuracy: 0.8713, Loss: 0.1994\n",
      "Epoch   3 Batch   80/269 - Train Accuracy: 0.8792, Validation Accuracy: 0.8742, Loss: 0.1805\n",
      "Epoch   3 Batch   90/269 - Train Accuracy: 0.8607, Validation Accuracy: 0.8721, Loss: 0.1986\n",
      "Epoch   3 Batch  100/269 - Train Accuracy: 0.8940, Validation Accuracy: 0.8846, Loss: 0.1824\n",
      "Epoch   3 Batch  110/269 - Train Accuracy: 0.8752, Validation Accuracy: 0.8815, Loss: 0.1739\n",
      "Epoch   3 Batch  120/269 - Train Accuracy: 0.8885, Validation Accuracy: 0.8795, Loss: 0.1745\n",
      "Epoch   3 Batch  130/269 - Train Accuracy: 0.8880, Validation Accuracy: 0.8801, Loss: 0.1847\n",
      "Epoch   3 Batch  140/269 - Train Accuracy: 0.8927, Validation Accuracy: 0.8882, Loss: 0.1694\n",
      "Epoch   3 Batch  150/269 - Train Accuracy: 0.8795, Validation Accuracy: 0.8862, Loss: 0.1674\n",
      "Epoch   3 Batch  160/269 - Train Accuracy: 0.9016, Validation Accuracy: 0.8959, Loss: 0.1588\n",
      "Epoch   3 Batch  170/269 - Train Accuracy: 0.8930, Validation Accuracy: 0.9015, Loss: 0.1503\n",
      "Epoch   3 Batch  180/269 - Train Accuracy: 0.8948, Validation Accuracy: 0.8869, Loss: 0.1446\n",
      "Epoch   3 Batch  190/269 - Train Accuracy: 0.9118, Validation Accuracy: 0.8978, Loss: 0.1432\n",
      "Epoch   3 Batch  200/269 - Train Accuracy: 0.8938, Validation Accuracy: 0.8919, Loss: 0.1481\n",
      "Epoch   3 Batch  210/269 - Train Accuracy: 0.9031, Validation Accuracy: 0.9150, Loss: 0.1306\n",
      "Epoch   3 Batch  220/269 - Train Accuracy: 0.9097, Validation Accuracy: 0.9118, Loss: 0.1266\n",
      "Epoch   3 Batch  230/269 - Train Accuracy: 0.9096, Validation Accuracy: 0.9013, Loss: 0.1333\n",
      "Epoch   3 Batch  240/269 - Train Accuracy: 0.9153, Validation Accuracy: 0.9150, Loss: 0.1189\n",
      "Epoch   3 Batch  250/269 - Train Accuracy: 0.9162, Validation Accuracy: 0.9141, Loss: 0.1209\n",
      "Epoch   3 Batch  260/269 - Train Accuracy: 0.8826, Validation Accuracy: 0.9050, Loss: 0.1397\n",
      "Epoch   4 Batch   10/269 - Train Accuracy: 0.9106, Validation Accuracy: 0.9109, Loss: 0.1051\n",
      "Epoch   4 Batch   20/269 - Train Accuracy: 0.9162, Validation Accuracy: 0.9161, Loss: 0.1097\n",
      "Epoch   4 Batch   30/269 - Train Accuracy: 0.9197, Validation Accuracy: 0.9154, Loss: 0.1152\n",
      "Epoch   4 Batch   40/269 - Train Accuracy: 0.9025, Validation Accuracy: 0.9185, Loss: 0.1197\n",
      "Epoch   4 Batch   50/269 - Train Accuracy: 0.8885, Validation Accuracy: 0.9106, Loss: 0.1236\n",
      "Epoch   4 Batch   60/269 - Train Accuracy: 0.9211, Validation Accuracy: 0.9132, Loss: 0.1021\n",
      "Epoch   4 Batch   70/269 - Train Accuracy: 0.9209, Validation Accuracy: 0.9181, Loss: 0.1132\n",
      "Epoch   4 Batch   80/269 - Train Accuracy: 0.9158, Validation Accuracy: 0.9072, Loss: 0.1029\n",
      "Epoch   4 Batch   90/269 - Train Accuracy: 0.9167, Validation Accuracy: 0.9149, Loss: 0.1173\n",
      "Epoch   4 Batch  100/269 - Train Accuracy: 0.9230, Validation Accuracy: 0.9158, Loss: 0.1026\n",
      "Epoch   4 Batch  110/269 - Train Accuracy: 0.9152, Validation Accuracy: 0.9119, Loss: 0.0997\n",
      "Epoch   4 Batch  120/269 - Train Accuracy: 0.9116, Validation Accuracy: 0.9209, Loss: 0.0948\n",
      "Epoch   4 Batch  130/269 - Train Accuracy: 0.9174, Validation Accuracy: 0.9232, Loss: 0.0964\n",
      "Epoch   4 Batch  140/269 - Train Accuracy: 0.9136, Validation Accuracy: 0.9231, Loss: 0.1067\n",
      "Epoch   4 Batch  150/269 - Train Accuracy: 0.9169, Validation Accuracy: 0.9223, Loss: 0.0996\n",
      "Epoch   4 Batch  160/269 - Train Accuracy: 0.9081, Validation Accuracy: 0.9294, Loss: 0.0943\n",
      "Epoch   4 Batch  170/269 - Train Accuracy: 0.9148, Validation Accuracy: 0.9247, Loss: 0.0910\n",
      "Epoch   4 Batch  180/269 - Train Accuracy: 0.9282, Validation Accuracy: 0.9286, Loss: 0.0856\n",
      "Epoch   4 Batch  190/269 - Train Accuracy: 0.9293, Validation Accuracy: 0.9299, Loss: 0.0888\n",
      "Epoch   4 Batch  200/269 - Train Accuracy: 0.9285, Validation Accuracy: 0.9334, Loss: 0.0946\n",
      "Epoch   4 Batch  210/269 - Train Accuracy: 0.9184, Validation Accuracy: 0.9228, Loss: 0.0823\n",
      "Epoch   4 Batch  220/269 - Train Accuracy: 0.9330, Validation Accuracy: 0.9308, Loss: 0.0817\n",
      "Epoch   4 Batch  230/269 - Train Accuracy: 0.9345, Validation Accuracy: 0.9182, Loss: 0.0865\n",
      "Epoch   4 Batch  240/269 - Train Accuracy: 0.9288, Validation Accuracy: 0.9292, Loss: 0.0772\n",
      "Epoch   4 Batch  250/269 - Train Accuracy: 0.9354, Validation Accuracy: 0.9322, Loss: 0.0810\n",
      "Epoch   4 Batch  260/269 - Train Accuracy: 0.9087, Validation Accuracy: 0.9300, Loss: 0.0893\n",
      "Epoch   5 Batch   10/269 - Train Accuracy: 0.9304, Validation Accuracy: 0.9329, Loss: 0.0687\n",
      "Epoch   5 Batch   20/269 - Train Accuracy: 0.9262, Validation Accuracy: 0.9314, Loss: 0.0764\n",
      "Epoch   5 Batch   30/269 - Train Accuracy: 0.9338, Validation Accuracy: 0.9328, Loss: 0.0787\n",
      "Epoch   5 Batch   40/269 - Train Accuracy: 0.9066, Validation Accuracy: 0.9305, Loss: 0.0823\n",
      "Epoch   5 Batch   50/269 - Train Accuracy: 0.9141, Validation Accuracy: 0.9332, Loss: 0.0829\n",
      "Epoch   5 Batch   60/269 - Train Accuracy: 0.9359, Validation Accuracy: 0.9376, Loss: 0.0676\n",
      "Epoch   5 Batch   70/269 - Train Accuracy: 0.9308, Validation Accuracy: 0.9316, Loss: 0.0762\n",
      "Epoch   5 Batch   80/269 - Train Accuracy: 0.9275, Validation Accuracy: 0.9358, Loss: 0.0756\n",
      "Epoch   5 Batch   90/269 - Train Accuracy: 0.9356, Validation Accuracy: 0.9343, Loss: 0.0799\n",
      "Epoch   5 Batch  100/269 - Train Accuracy: 0.9351, Validation Accuracy: 0.9315, Loss: 0.0668\n",
      "Epoch   5 Batch  110/269 - Train Accuracy: 0.9238, Validation Accuracy: 0.9264, Loss: 0.0700\n",
      "Epoch   5 Batch  120/269 - Train Accuracy: 0.9206, Validation Accuracy: 0.9215, Loss: 0.1002\n",
      "Epoch   5 Batch  130/269 - Train Accuracy: 0.9282, Validation Accuracy: 0.9359, Loss: 0.0825\n",
      "Epoch   5 Batch  140/269 - Train Accuracy: 0.9263, Validation Accuracy: 0.9330, Loss: 0.0820\n",
      "Epoch   5 Batch  150/269 - Train Accuracy: 0.9257, Validation Accuracy: 0.9392, Loss: 0.0762\n",
      "Epoch   5 Batch  160/269 - Train Accuracy: 0.9202, Validation Accuracy: 0.9362, Loss: 0.0690\n",
      "Epoch   5 Batch  170/269 - Train Accuracy: 0.9267, Validation Accuracy: 0.9345, Loss: 0.0648\n",
      "Epoch   5 Batch  180/269 - Train Accuracy: 0.9372, Validation Accuracy: 0.9366, Loss: 0.0657\n",
      "Epoch   5 Batch  190/269 - Train Accuracy: 0.9377, Validation Accuracy: 0.9404, Loss: 0.0645\n",
      "Epoch   5 Batch  200/269 - Train Accuracy: 0.9391, Validation Accuracy: 0.9410, Loss: 0.0655\n",
      "Epoch   5 Batch  210/269 - Train Accuracy: 0.9381, Validation Accuracy: 0.9403, Loss: 0.0623\n",
      "Epoch   5 Batch  220/269 - Train Accuracy: 0.9390, Validation Accuracy: 0.9424, Loss: 0.0605\n",
      "Epoch   5 Batch  230/269 - Train Accuracy: 0.9381, Validation Accuracy: 0.9368, Loss: 0.0641\n",
      "Epoch   5 Batch  240/269 - Train Accuracy: 0.9359, Validation Accuracy: 0.9431, Loss: 0.0588\n",
      "Epoch   5 Batch  250/269 - Train Accuracy: 0.9396, Validation Accuracy: 0.9397, Loss: 0.0692\n",
      "Epoch   5 Batch  260/269 - Train Accuracy: 0.9368, Validation Accuracy: 0.9450, Loss: 0.0698\n",
      "Epoch   6 Batch   10/269 - Train Accuracy: 0.9490, Validation Accuracy: 0.9446, Loss: 0.0576\n",
      "Epoch   6 Batch   20/269 - Train Accuracy: 0.9439, Validation Accuracy: 0.9434, Loss: 0.0605\n",
      "Epoch   6 Batch   30/269 - Train Accuracy: 0.9389, Validation Accuracy: 0.9463, Loss: 0.0608\n",
      "Epoch   6 Batch   40/269 - Train Accuracy: 0.9309, Validation Accuracy: 0.9522, Loss: 0.0633\n",
      "Epoch   6 Batch   50/269 - Train Accuracy: 0.9258, Validation Accuracy: 0.9413, Loss: 0.0675\n",
      "Epoch   6 Batch   60/269 - Train Accuracy: 0.9449, Validation Accuracy: 0.9474, Loss: 0.0539\n",
      "Epoch   6 Batch   70/269 - Train Accuracy: 0.9448, Validation Accuracy: 0.9514, Loss: 0.0611\n",
      "Epoch   6 Batch   80/269 - Train Accuracy: 0.9395, Validation Accuracy: 0.9473, Loss: 0.0610\n",
      "Epoch   6 Batch   90/269 - Train Accuracy: 0.9462, Validation Accuracy: 0.9457, Loss: 0.0618\n",
      "Epoch   6 Batch  100/269 - Train Accuracy: 0.9402, Validation Accuracy: 0.9450, Loss: 0.0583\n",
      "Epoch   6 Batch  110/269 - Train Accuracy: 0.9321, Validation Accuracy: 0.9474, Loss: 0.0527\n",
      "Epoch   6 Batch  120/269 - Train Accuracy: 0.9365, Validation Accuracy: 0.9497, Loss: 0.0592\n",
      "Epoch   6 Batch  130/269 - Train Accuracy: 0.9471, Validation Accuracy: 0.9466, Loss: 0.0608\n",
      "Epoch   6 Batch  140/269 - Train Accuracy: 0.9386, Validation Accuracy: 0.9483, Loss: 0.0602\n",
      "Epoch   6 Batch  150/269 - Train Accuracy: 0.9478, Validation Accuracy: 0.9459, Loss: 0.0564\n",
      "Epoch   6 Batch  160/269 - Train Accuracy: 0.9350, Validation Accuracy: 0.9557, Loss: 0.0553\n",
      "Epoch   6 Batch  170/269 - Train Accuracy: 0.9390, Validation Accuracy: 0.9563, Loss: 0.0543\n",
      "Epoch   6 Batch  180/269 - Train Accuracy: 0.9524, Validation Accuracy: 0.9513, Loss: 0.0514\n",
      "Epoch   6 Batch  190/269 - Train Accuracy: 0.9548, Validation Accuracy: 0.9514, Loss: 0.0521\n",
      "Epoch   6 Batch  200/269 - Train Accuracy: 0.9529, Validation Accuracy: 0.9497, Loss: 0.0534\n",
      "Epoch   6 Batch  210/269 - Train Accuracy: 0.9392, Validation Accuracy: 0.9545, Loss: 0.0472\n",
      "Epoch   6 Batch  220/269 - Train Accuracy: 0.9475, Validation Accuracy: 0.9543, Loss: 0.0492\n",
      "Epoch   6 Batch  230/269 - Train Accuracy: 0.9455, Validation Accuracy: 0.9527, Loss: 0.0509\n",
      "Epoch   6 Batch  240/269 - Train Accuracy: 0.9527, Validation Accuracy: 0.9521, Loss: 0.0497\n",
      "Epoch   6 Batch  250/269 - Train Accuracy: 0.9513, Validation Accuracy: 0.9537, Loss: 0.0520\n",
      "Epoch   6 Batch  260/269 - Train Accuracy: 0.9472, Validation Accuracy: 0.9521, Loss: 0.0600\n",
      "Epoch   7 Batch   10/269 - Train Accuracy: 0.9638, Validation Accuracy: 0.9530, Loss: 0.0482\n",
      "Epoch   7 Batch   20/269 - Train Accuracy: 0.9522, Validation Accuracy: 0.9528, Loss: 0.0477\n",
      "Epoch   7 Batch   30/269 - Train Accuracy: 0.9486, Validation Accuracy: 0.9554, Loss: 0.0493\n",
      "Epoch   7 Batch   40/269 - Train Accuracy: 0.9424, Validation Accuracy: 0.9569, Loss: 0.0520\n",
      "Epoch   7 Batch   50/269 - Train Accuracy: 0.9307, Validation Accuracy: 0.9528, Loss: 0.0607\n",
      "Epoch   7 Batch   60/269 - Train Accuracy: 0.9548, Validation Accuracy: 0.9547, Loss: 0.0442\n",
      "Epoch   7 Batch   70/269 - Train Accuracy: 0.9447, Validation Accuracy: 0.9490, Loss: 0.0570\n",
      "Epoch   7 Batch   80/269 - Train Accuracy: 0.9478, Validation Accuracy: 0.9592, Loss: 0.0506\n",
      "Epoch   7 Batch   90/269 - Train Accuracy: 0.9516, Validation Accuracy: 0.9575, Loss: 0.0512\n",
      "Epoch   7 Batch  100/269 - Train Accuracy: 0.9524, Validation Accuracy: 0.9514, Loss: 0.0477\n",
      "Epoch   7 Batch  110/269 - Train Accuracy: 0.9429, Validation Accuracy: 0.9612, Loss: 0.0445\n",
      "Epoch   7 Batch  120/269 - Train Accuracy: 0.9457, Validation Accuracy: 0.9553, Loss: 0.0465\n",
      "Epoch   7 Batch  130/269 - Train Accuracy: 0.9493, Validation Accuracy: 0.9573, Loss: 0.0514\n",
      "Epoch   7 Batch  140/269 - Train Accuracy: 0.9501, Validation Accuracy: 0.9582, Loss: 0.0542\n",
      "Epoch   7 Batch  150/269 - Train Accuracy: 0.9527, Validation Accuracy: 0.9571, Loss: 0.0506\n",
      "Epoch   7 Batch  160/269 - Train Accuracy: 0.9455, Validation Accuracy: 0.9565, Loss: 0.0461\n",
      "Epoch   7 Batch  170/269 - Train Accuracy: 0.9435, Validation Accuracy: 0.9600, Loss: 0.0434\n",
      "Epoch   7 Batch  180/269 - Train Accuracy: 0.9545, Validation Accuracy: 0.9549, Loss: 0.0401\n",
      "Epoch   7 Batch  190/269 - Train Accuracy: 0.9665, Validation Accuracy: 0.9592, Loss: 0.0467\n",
      "Epoch   7 Batch  200/269 - Train Accuracy: 0.9614, Validation Accuracy: 0.9556, Loss: 0.0439\n",
      "Epoch   7 Batch  210/269 - Train Accuracy: 0.9559, Validation Accuracy: 0.9644, Loss: 0.0457\n",
      "Epoch   7 Batch  220/269 - Train Accuracy: 0.9569, Validation Accuracy: 0.9640, Loss: 0.0434\n",
      "Epoch   7 Batch  230/269 - Train Accuracy: 0.9524, Validation Accuracy: 0.9626, Loss: 0.0450\n",
      "Epoch   7 Batch  240/269 - Train Accuracy: 0.9557, Validation Accuracy: 0.9616, Loss: 0.0406\n",
      "Epoch   7 Batch  250/269 - Train Accuracy: 0.9608, Validation Accuracy: 0.9612, Loss: 0.0468\n",
      "Epoch   7 Batch  260/269 - Train Accuracy: 0.9552, Validation Accuracy: 0.9544, Loss: 0.0453\n",
      "Epoch   8 Batch   10/269 - Train Accuracy: 0.9638, Validation Accuracy: 0.9598, Loss: 0.0398\n",
      "Epoch   8 Batch   20/269 - Train Accuracy: 0.9533, Validation Accuracy: 0.9551, Loss: 0.0404\n",
      "Epoch   8 Batch   30/269 - Train Accuracy: 0.9542, Validation Accuracy: 0.9606, Loss: 0.0459\n",
      "Epoch   8 Batch   40/269 - Train Accuracy: 0.9546, Validation Accuracy: 0.9589, Loss: 0.0463\n",
      "Epoch   8 Batch   50/269 - Train Accuracy: 0.9464, Validation Accuracy: 0.9572, Loss: 0.0489\n",
      "Epoch   8 Batch   60/269 - Train Accuracy: 0.9581, Validation Accuracy: 0.9611, Loss: 0.0387\n",
      "Epoch   8 Batch   70/269 - Train Accuracy: 0.9488, Validation Accuracy: 0.9594, Loss: 0.0396\n",
      "Epoch   8 Batch   80/269 - Train Accuracy: 0.9550, Validation Accuracy: 0.9617, Loss: 0.0408\n",
      "Epoch   8 Batch   90/269 - Train Accuracy: 0.9472, Validation Accuracy: 0.9596, Loss: 0.0427\n",
      "Epoch   8 Batch  100/269 - Train Accuracy: 0.9534, Validation Accuracy: 0.9506, Loss: 0.0431\n",
      "Epoch   8 Batch  110/269 - Train Accuracy: 0.9519, Validation Accuracy: 0.9588, Loss: 0.0386\n",
      "Epoch   8 Batch  120/269 - Train Accuracy: 0.9573, Validation Accuracy: 0.9688, Loss: 0.0420\n",
      "Epoch   8 Batch  130/269 - Train Accuracy: 0.9650, Validation Accuracy: 0.9575, Loss: 0.0430\n",
      "Epoch   8 Batch  140/269 - Train Accuracy: 0.9560, Validation Accuracy: 0.9672, Loss: 0.0444\n",
      "Epoch   8 Batch  150/269 - Train Accuracy: 0.9607, Validation Accuracy: 0.9678, Loss: 0.0445\n",
      "Epoch   8 Batch  160/269 - Train Accuracy: 0.9506, Validation Accuracy: 0.9668, Loss: 0.0429\n",
      "Epoch   8 Batch  170/269 - Train Accuracy: 0.9547, Validation Accuracy: 0.9620, Loss: 0.0396\n",
      "Epoch   8 Batch  180/269 - Train Accuracy: 0.9618, Validation Accuracy: 0.9652, Loss: 0.0383\n",
      "Epoch   8 Batch  190/269 - Train Accuracy: 0.9693, Validation Accuracy: 0.9631, Loss: 0.0392\n",
      "Epoch   8 Batch  200/269 - Train Accuracy: 0.9622, Validation Accuracy: 0.9685, Loss: 0.0378\n",
      "Epoch   8 Batch  210/269 - Train Accuracy: 0.9555, Validation Accuracy: 0.9642, Loss: 0.0388\n",
      "Epoch   8 Batch  220/269 - Train Accuracy: 0.9616, Validation Accuracy: 0.9678, Loss: 0.0380\n",
      "Epoch   8 Batch  230/269 - Train Accuracy: 0.9581, Validation Accuracy: 0.9690, Loss: 0.0396\n",
      "Epoch   8 Batch  240/269 - Train Accuracy: 0.9626, Validation Accuracy: 0.9730, Loss: 0.0365\n",
      "Epoch   8 Batch  250/269 - Train Accuracy: 0.9641, Validation Accuracy: 0.9664, Loss: 0.0410\n",
      "Epoch   8 Batch  260/269 - Train Accuracy: 0.9692, Validation Accuracy: 0.9605, Loss: 0.0437\n",
      "Epoch   9 Batch   10/269 - Train Accuracy: 0.9630, Validation Accuracy: 0.9631, Loss: 0.0357\n",
      "Epoch   9 Batch   20/269 - Train Accuracy: 0.9604, Validation Accuracy: 0.9643, Loss: 0.0387\n",
      "Epoch   9 Batch   30/269 - Train Accuracy: 0.9514, Validation Accuracy: 0.9550, Loss: 0.0395\n",
      "Epoch   9 Batch   40/269 - Train Accuracy: 0.9559, Validation Accuracy: 0.9552, Loss: 0.0376\n",
      "Epoch   9 Batch   50/269 - Train Accuracy: 0.9510, Validation Accuracy: 0.9610, Loss: 0.0408\n",
      "Epoch   9 Batch   60/269 - Train Accuracy: 0.9624, Validation Accuracy: 0.9677, Loss: 0.0368\n",
      "Epoch   9 Batch   70/269 - Train Accuracy: 0.9589, Validation Accuracy: 0.9627, Loss: 0.0373\n",
      "Epoch   9 Batch   80/269 - Train Accuracy: 0.9639, Validation Accuracy: 0.9669, Loss: 0.0351\n",
      "Epoch   9 Batch   90/269 - Train Accuracy: 0.9585, Validation Accuracy: 0.9710, Loss: 0.0358\n",
      "Epoch   9 Batch  100/269 - Train Accuracy: 0.9595, Validation Accuracy: 0.9650, Loss: 0.0360\n",
      "Epoch   9 Batch  110/269 - Train Accuracy: 0.9623, Validation Accuracy: 0.9642, Loss: 0.0304\n",
      "Epoch   9 Batch  120/269 - Train Accuracy: 0.9595, Validation Accuracy: 0.9673, Loss: 0.0376\n",
      "Epoch   9 Batch  130/269 - Train Accuracy: 0.9678, Validation Accuracy: 0.9688, Loss: 0.0418\n",
      "Epoch   9 Batch  140/269 - Train Accuracy: 0.9680, Validation Accuracy: 0.9667, Loss: 0.0365\n",
      "Epoch   9 Batch  150/269 - Train Accuracy: 0.9643, Validation Accuracy: 0.9630, Loss: 0.0374\n",
      "Epoch   9 Batch  160/269 - Train Accuracy: 0.9574, Validation Accuracy: 0.9655, Loss: 0.0356\n",
      "Epoch   9 Batch  170/269 - Train Accuracy: 0.9603, Validation Accuracy: 0.9699, Loss: 0.0319\n",
      "Epoch   9 Batch  180/269 - Train Accuracy: 0.9670, Validation Accuracy: 0.9722, Loss: 0.0344\n",
      "Epoch   9 Batch  190/269 - Train Accuracy: 0.9688, Validation Accuracy: 0.9722, Loss: 0.0342\n",
      "Epoch   9 Batch  200/269 - Train Accuracy: 0.9674, Validation Accuracy: 0.9723, Loss: 0.0340\n",
      "Epoch   9 Batch  210/269 - Train Accuracy: 0.9653, Validation Accuracy: 0.9630, Loss: 0.0335\n",
      "Epoch   9 Batch  220/269 - Train Accuracy: 0.9648, Validation Accuracy: 0.9700, Loss: 0.0331\n",
      "Epoch   9 Batch  230/269 - Train Accuracy: 0.9589, Validation Accuracy: 0.9666, Loss: 0.0347\n",
      "Epoch   9 Batch  240/269 - Train Accuracy: 0.9678, Validation Accuracy: 0.9683, Loss: 0.0328\n",
      "Epoch   9 Batch  250/269 - Train Accuracy: 0.9670, Validation Accuracy: 0.9726, Loss: 0.0346\n",
      "Epoch   9 Batch  260/269 - Train Accuracy: 0.9670, Validation Accuracy: 0.9610, Loss: 0.0347\n",
      "Epoch  10 Batch   10/269 - Train Accuracy: 0.9759, Validation Accuracy: 0.9665, Loss: 0.0303\n",
      "Epoch  10 Batch   20/269 - Train Accuracy: 0.9734, Validation Accuracy: 0.9687, Loss: 0.0307\n",
      "Epoch  10 Batch   30/269 - Train Accuracy: 0.9621, Validation Accuracy: 0.9693, Loss: 0.0385\n",
      "Epoch  10 Batch   40/269 - Train Accuracy: 0.9611, Validation Accuracy: 0.9635, Loss: 0.0373\n",
      "Epoch  10 Batch   50/269 - Train Accuracy: 0.9613, Validation Accuracy: 0.9619, Loss: 0.0395\n",
      "Epoch  10 Batch   60/269 - Train Accuracy: 0.9691, Validation Accuracy: 0.9699, Loss: 0.0320\n",
      "Epoch  10 Batch   70/269 - Train Accuracy: 0.9700, Validation Accuracy: 0.9632, Loss: 0.0330\n",
      "Epoch  10 Batch   80/269 - Train Accuracy: 0.9670, Validation Accuracy: 0.9722, Loss: 0.0375\n",
      "Epoch  10 Batch   90/269 - Train Accuracy: 0.9590, Validation Accuracy: 0.9718, Loss: 0.0358\n",
      "Epoch  10 Batch  100/269 - Train Accuracy: 0.9671, Validation Accuracy: 0.9705, Loss: 0.0337\n",
      "Epoch  10 Batch  110/269 - Train Accuracy: 0.9624, Validation Accuracy: 0.9667, Loss: 0.0308\n",
      "Epoch  10 Batch  120/269 - Train Accuracy: 0.9591, Validation Accuracy: 0.9618, Loss: 0.0339\n",
      "Epoch  10 Batch  130/269 - Train Accuracy: 0.9640, Validation Accuracy: 0.9676, Loss: 0.0369\n",
      "Epoch  10 Batch  140/269 - Train Accuracy: 0.9707, Validation Accuracy: 0.9756, Loss: 0.0328\n",
      "Epoch  10 Batch  150/269 - Train Accuracy: 0.9700, Validation Accuracy: 0.9670, Loss: 0.0322\n",
      "Epoch  10 Batch  160/269 - Train Accuracy: 0.9677, Validation Accuracy: 0.9765, Loss: 0.0303\n",
      "Epoch  10 Batch  170/269 - Train Accuracy: 0.9629, Validation Accuracy: 0.9711, Loss: 0.0301\n",
      "Epoch  10 Batch  180/269 - Train Accuracy: 0.9754, Validation Accuracy: 0.9735, Loss: 0.0300\n",
      "Epoch  10 Batch  190/269 - Train Accuracy: 0.9675, Validation Accuracy: 0.9723, Loss: 0.0341\n",
      "Epoch  10 Batch  200/269 - Train Accuracy: 0.9757, Validation Accuracy: 0.9772, Loss: 0.0262\n",
      "Epoch  10 Batch  210/269 - Train Accuracy: 0.9713, Validation Accuracy: 0.9649, Loss: 0.0329\n",
      "Epoch  10 Batch  220/269 - Train Accuracy: 0.9690, Validation Accuracy: 0.9702, Loss: 0.0291\n",
      "Epoch  10 Batch  230/269 - Train Accuracy: 0.9692, Validation Accuracy: 0.9716, Loss: 0.0305\n",
      "Epoch  10 Batch  240/269 - Train Accuracy: 0.9684, Validation Accuracy: 0.9702, Loss: 0.0306\n",
      "Epoch  10 Batch  250/269 - Train Accuracy: 0.9661, Validation Accuracy: 0.9705, Loss: 0.0306\n",
      "Epoch  10 Batch  260/269 - Train Accuracy: 0.9720, Validation Accuracy: 0.9702, Loss: 0.0324\n",
      "Epoch  11 Batch   10/269 - Train Accuracy: 0.9771, Validation Accuracy: 0.9656, Loss: 0.0256\n",
      "Epoch  11 Batch   20/269 - Train Accuracy: 0.9721, Validation Accuracy: 0.9711, Loss: 0.0283\n",
      "Epoch  11 Batch   30/269 - Train Accuracy: 0.9598, Validation Accuracy: 0.9740, Loss: 0.0331\n",
      "Epoch  11 Batch   40/269 - Train Accuracy: 0.9669, Validation Accuracy: 0.9618, Loss: 0.0316\n",
      "Epoch  11 Batch   50/269 - Train Accuracy: 0.9593, Validation Accuracy: 0.9687, Loss: 0.0383\n",
      "Epoch  11 Batch   60/269 - Train Accuracy: 0.9710, Validation Accuracy: 0.9711, Loss: 0.0295\n",
      "Epoch  11 Batch   70/269 - Train Accuracy: 0.9701, Validation Accuracy: 0.9751, Loss: 0.0292\n",
      "Epoch  11 Batch   80/269 - Train Accuracy: 0.9712, Validation Accuracy: 0.9709, Loss: 0.0264\n",
      "Epoch  11 Batch   90/269 - Train Accuracy: 0.9679, Validation Accuracy: 0.9713, Loss: 0.0332\n",
      "Epoch  11 Batch  100/269 - Train Accuracy: 0.9648, Validation Accuracy: 0.9627, Loss: 0.0300\n",
      "Epoch  11 Batch  110/269 - Train Accuracy: 0.9630, Validation Accuracy: 0.9658, Loss: 0.0247\n",
      "Epoch  11 Batch  120/269 - Train Accuracy: 0.9654, Validation Accuracy: 0.9615, Loss: 0.0307\n",
      "Epoch  11 Batch  130/269 - Train Accuracy: 0.9705, Validation Accuracy: 0.9744, Loss: 0.0308\n",
      "Epoch  11 Batch  140/269 - Train Accuracy: 0.9716, Validation Accuracy: 0.9744, Loss: 0.0287\n",
      "Epoch  11 Batch  150/269 - Train Accuracy: 0.9741, Validation Accuracy: 0.9771, Loss: 0.0323\n",
      "Epoch  11 Batch  160/269 - Train Accuracy: 0.9615, Validation Accuracy: 0.9730, Loss: 0.0312\n",
      "Epoch  11 Batch  170/269 - Train Accuracy: 0.9626, Validation Accuracy: 0.9679, Loss: 0.0283\n",
      "Epoch  11 Batch  180/269 - Train Accuracy: 0.9758, Validation Accuracy: 0.9740, Loss: 0.0302\n",
      "Epoch  11 Batch  190/269 - Train Accuracy: 0.9736, Validation Accuracy: 0.9692, Loss: 0.0307\n",
      "Epoch  11 Batch  200/269 - Train Accuracy: 0.9729, Validation Accuracy: 0.9751, Loss: 0.0271\n",
      "Epoch  11 Batch  210/269 - Train Accuracy: 0.9682, Validation Accuracy: 0.9693, Loss: 0.0257\n",
      "Epoch  11 Batch  220/269 - Train Accuracy: 0.9690, Validation Accuracy: 0.9815, Loss: 0.0279\n",
      "Epoch  11 Batch  230/269 - Train Accuracy: 0.9680, Validation Accuracy: 0.9754, Loss: 0.0271\n",
      "Epoch  11 Batch  240/269 - Train Accuracy: 0.9738, Validation Accuracy: 0.9706, Loss: 0.0257\n",
      "Epoch  11 Batch  250/269 - Train Accuracy: 0.9640, Validation Accuracy: 0.9758, Loss: 0.0278\n",
      "Epoch  11 Batch  260/269 - Train Accuracy: 0.9756, Validation Accuracy: 0.9697, Loss: 0.0272\n",
      "Model Trained and Saved\n"
     ]
    }
   ],
   "source": [
    "\"\"\"\n",
    "DON'T MODIFY ANYTHING IN THIS CELL\n",
    "\"\"\"\n",
    "def get_accuracy(target, logits):\n",
    "    \"\"\"\n",
    "    Calculate accuracy\n",
    "    \"\"\"\n",
    "    max_seq = max(target.shape[1], logits.shape[1])\n",
    "    if max_seq - target.shape[1]:\n",
    "        target = np.pad(\n",
    "            target,\n",
    "            [(0,0),(0,max_seq - target.shape[1])],\n",
    "            'constant')\n",
    "    if max_seq - logits.shape[1]:\n",
    "        logits = np.pad(\n",
    "            logits,\n",
    "            [(0,0),(0,max_seq - logits.shape[1])],\n",
    "            'constant')\n",
    "\n",
    "    return np.mean(np.equal(target, logits))\n",
    "\n",
    "# Split data to training and validation sets\n",
    "train_source = source_int_text[batch_size:]\n",
    "train_target = target_int_text[batch_size:]\n",
    "valid_source = source_int_text[:batch_size]\n",
    "valid_target = target_int_text[:batch_size]\n",
    "(valid_sources_batch, valid_targets_batch, valid_sources_lengths, valid_targets_lengths ) = next(get_batches(valid_source,\n",
    "                                                                                                             valid_target,\n",
    "                                                                                                             batch_size,\n",
    "                                                                                                             source_vocab_to_int['<PAD>'],\n",
    "                                                                                                             target_vocab_to_int['<PAD>']))                                                                                                  \n",
    "with tf.Session(graph=train_graph) as sess:\n",
    "    sess.run(tf.global_variables_initializer())\n",
    "\n",
    "    for epoch_i in range(epochs):\n",
    "        for batch_i, (source_batch, target_batch, sources_lengths, targets_lengths) in enumerate(\n",
    "                get_batches(train_source, train_target, batch_size,\n",
    "                            source_vocab_to_int['<PAD>'],\n",
    "                            target_vocab_to_int['<PAD>'])):\n",
    "\n",
    "            _, loss = sess.run(\n",
    "                [train_op, cost],\n",
    "                {input_data: source_batch,\n",
    "                 targets: target_batch,\n",
    "                 lr: learning_rate,\n",
    "                 target_sequence_length: targets_lengths,\n",
    "                 source_sequence_length: sources_lengths,\n",
    "                 keep_prob: keep_probability})\n",
    "\n",
    "\n",
    "            if batch_i % display_step == 0 and batch_i > 0:\n",
    "\n",
    "\n",
    "                batch_train_logits = sess.run(\n",
    "                    inference_logits,\n",
    "                    {input_data: source_batch,\n",
    "                     source_sequence_length: sources_lengths,\n",
    "                     target_sequence_length: targets_lengths,\n",
    "                     keep_prob: 1.0})\n",
    "\n",
    "\n",
    "                batch_valid_logits = sess.run(\n",
    "                    inference_logits,\n",
    "                    {input_data: valid_sources_batch,\n",
    "                     source_sequence_length: valid_sources_lengths,\n",
    "                     target_sequence_length: valid_targets_lengths,\n",
    "                     keep_prob: 1.0})\n",
    "\n",
    "                train_acc = get_accuracy(target_batch, batch_train_logits)\n",
    "\n",
    "                valid_acc = get_accuracy(valid_targets_batch, batch_valid_logits)\n",
    "\n",
    "                print('Epoch {:>3} Batch {:>4}/{} - Train Accuracy: {:>6.4f}, Validation Accuracy: {:>6.4f}, Loss: {:>6.4f}'\n",
    "                      .format(epoch_i, batch_i, len(source_int_text) // batch_size, train_acc, valid_acc, loss))\n",
    "\n",
    "    # Save Model\n",
    "    saver = tf.train.Saver()\n",
    "    saver.save(sess, save_path)\n",
    "    print('Model Trained and Saved')"
   ]
  },
  {
   "cell_type": "markdown",
   "metadata": {
    "deletable": true,
    "editable": true
   },
   "source": [
    "### Save Parameters\n",
    "Save the `batch_size` and `save_path` parameters for inference."
   ]
  },
  {
   "cell_type": "code",
   "execution_count": 36,
   "metadata": {
    "collapsed": true,
    "deletable": true,
    "editable": true
   },
   "outputs": [],
   "source": [
    "\"\"\"\n",
    "DON'T MODIFY ANYTHING IN THIS CELL\n",
    "\"\"\"\n",
    "# Save parameters for checkpoint\n",
    "helper.save_params(save_path)"
   ]
  },
  {
   "cell_type": "markdown",
   "metadata": {
    "deletable": true,
    "editable": true
   },
   "source": [
    "# Checkpoint"
   ]
  },
  {
   "cell_type": "code",
   "execution_count": 37,
   "metadata": {
    "collapsed": true,
    "deletable": true,
    "editable": true
   },
   "outputs": [],
   "source": [
    "\"\"\"\n",
    "DON'T MODIFY ANYTHING IN THIS CELL\n",
    "\"\"\"\n",
    "import tensorflow as tf\n",
    "import numpy as np\n",
    "import helper\n",
    "import problem_unittests as tests\n",
    "\n",
    "_, (source_vocab_to_int, target_vocab_to_int), (source_int_to_vocab, target_int_to_vocab) = helper.load_preprocess()\n",
    "load_path = helper.load_params()"
   ]
  },
  {
   "cell_type": "markdown",
   "metadata": {
    "deletable": true,
    "editable": true
   },
   "source": [
    "## Sentence to Sequence\n",
    "To feed a sentence into the model for translation, you first need to preprocess it.  Implement the function `sentence_to_seq()` to preprocess new sentences.\n",
    "\n",
    "- Convert the sentence to lowercase\n",
    "- Convert words into ids using `vocab_to_int`\n",
    " - Convert words not in the vocabulary, to the `<UNK>` word id."
   ]
  },
  {
   "cell_type": "code",
   "execution_count": 45,
   "metadata": {
    "collapsed": false,
    "deletable": true,
    "editable": true
   },
   "outputs": [
    {
     "name": "stdout",
     "output_type": "stream",
     "text": [
      "Tests Passed\n"
     ]
    }
   ],
   "source": [
    "def sentence_to_seq(sentence, vocab_to_int):\n",
    "    \"\"\"\n",
    "    Convert a sentence to a sequence of ids\n",
    "    :param sentence: String\n",
    "    :param vocab_to_int: Dictionary to go from the words to an id\n",
    "    :return: List of word ids\n",
    "    \"\"\"\n",
    "    # TODO: Implement Function\n",
    "    return [vocab_to_int.get(vocab.lower(), vocab_to_int['<UNK>']) for vocab in sentence.split()]\n",
    "\n",
    "\n",
    "\"\"\"\n",
    "DON'T MODIFY ANYTHING IN THIS CELL THAT IS BELOW THIS LINE\n",
    "\"\"\"\n",
    "tests.test_sentence_to_seq(sentence_to_seq)"
   ]
  },
  {
   "cell_type": "markdown",
   "metadata": {
    "deletable": true,
    "editable": true
   },
   "source": [
    "## Translate\n",
    "This will translate `translate_sentence` from English to French."
   ]
  },
  {
   "cell_type": "code",
   "execution_count": 46,
   "metadata": {
    "collapsed": false,
    "deletable": true,
    "editable": true
   },
   "outputs": [
    {
     "name": "stdout",
     "output_type": "stream",
     "text": [
      "INFO:tensorflow:Restoring parameters from checkpoints/dev\n",
      "Input\n",
      "  Word Ids:      [41, 227, 19, 12, 33, 111, 177]\n",
      "  English Words: ['he', 'saw', 'a', 'old', 'yellow', 'truck', '.']\n",
      "\n",
      "Prediction\n",
      "  Word Ids:      [60, 172, 178, 154, 20, 329, 1]\n",
      "  French Words: il a vu le vieux camion <EOS>\n"
     ]
    }
   ],
   "source": [
    "translate_sentence = 'he saw a old yellow truck .'\n",
    "\n",
    "\n",
    "\"\"\"\n",
    "DON'T MODIFY ANYTHING IN THIS CELL\n",
    "\"\"\"\n",
    "translate_sentence = sentence_to_seq(translate_sentence, source_vocab_to_int)\n",
    "\n",
    "loaded_graph = tf.Graph()\n",
    "with tf.Session(graph=loaded_graph) as sess:\n",
    "    # Load saved model\n",
    "    loader = tf.train.import_meta_graph(load_path + '.meta')\n",
    "    loader.restore(sess, load_path)\n",
    "\n",
    "    input_data = loaded_graph.get_tensor_by_name('input:0')\n",
    "    logits = loaded_graph.get_tensor_by_name('predictions:0')\n",
    "    target_sequence_length = loaded_graph.get_tensor_by_name('target_sequence_length:0')\n",
    "    source_sequence_length = loaded_graph.get_tensor_by_name('source_sequence_length:0')\n",
    "    keep_prob = loaded_graph.get_tensor_by_name('keep_prob:0')\n",
    "\n",
    "    translate_logits = sess.run(logits, {input_data: [translate_sentence]*batch_size,\n",
    "                                         target_sequence_length: [len(translate_sentence)*2]*batch_size,\n",
    "                                         source_sequence_length: [len(translate_sentence)]*batch_size,\n",
    "                                         keep_prob: 1.0})[0]\n",
    "\n",
    "print('Input')\n",
    "print('  Word Ids:      {}'.format([i for i in translate_sentence]))\n",
    "print('  English Words: {}'.format([source_int_to_vocab[i] for i in translate_sentence]))\n",
    "\n",
    "print('\\nPrediction')\n",
    "print('  Word Ids:      {}'.format([i for i in translate_logits]))\n",
    "print('  French Words: {}'.format(\" \".join([target_int_to_vocab[i] for i in translate_logits])))\n"
   ]
  },
  {
   "cell_type": "markdown",
   "metadata": {
    "deletable": true,
    "editable": true
   },
   "source": [
    "## Imperfect Translation\n",
    "You might notice that some sentences translate better than others.  Since the dataset you're using only has a vocabulary of 227 English words of the thousands that you use, you're only going to see good results using these words.  For this project, you don't need a perfect translation. However, if you want to create a better translation model, you'll need better data.\n",
    "\n",
    "You can train on the [WMT10 French-English corpus](http://www.statmt.org/wmt10/training-giga-fren.tar).  This dataset has more vocabulary and richer in topics discussed.  However, this will take you days to train, so make sure you've a GPU and the neural network is performing well on dataset we provided.  Just make sure you play with the WMT10 corpus after you've submitted this project.\n",
    "## Submitting This Project\n",
    "When submitting this project, make sure to run all the cells before saving the notebook. Save the notebook file as \"dlnd_language_translation.ipynb\" and save it as a HTML file under \"File\" -> \"Download as\". Include the \"helper.py\" and \"problem_unittests.py\" files in your submission."
   ]
  }
 ],
 "metadata": {
  "anaconda-cloud": {},
  "kernelspec": {
   "display_name": "Python 3",
   "language": "python",
   "name": "python3"
  },
  "language_info": {
   "codemirror_mode": {
    "name": "ipython",
    "version": 3
   },
   "file_extension": ".py",
   "mimetype": "text/x-python",
   "name": "python",
   "nbconvert_exporter": "python",
   "pygments_lexer": "ipython3",
   "version": "3.5.2"
  },
  "widgets": {
   "state": {},
   "version": "1.1.2"
  }
 },
 "nbformat": 4,
 "nbformat_minor": 1
}
